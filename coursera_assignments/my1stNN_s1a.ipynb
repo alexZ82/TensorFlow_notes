{
 "cells": [
  {
   "cell_type": "code",
   "execution_count": 1,
   "metadata": {},
   "outputs": [
    {
     "name": "stderr",
     "output_type": "stream",
     "text": [
      "Using TensorFlow backend.\n"
     ]
    }
   ],
   "source": [
    "from preprocessed_mnist import load_dataset\n",
    "import matplotlib.pyplot as plt"
   ]
  },
  {
   "cell_type": "code",
   "execution_count": 2,
   "metadata": {
    "collapsed": true
   },
   "outputs": [],
   "source": [
    "import numpy as np\n",
    "import tensorflow as tf"
   ]
  },
  {
   "cell_type": "code",
   "execution_count": 3,
   "metadata": {},
   "outputs": [
    {
     "name": "stdout",
     "output_type": "stream",
     "text": [
      "(50000, 28, 28) (50000,)\n"
     ]
    }
   ],
   "source": [
    "X_train, y_train, X_val, y_val, X_test, y_test = load_dataset()\n",
    "print(X_train.shape, y_train.shape)"
   ]
  },
  {
   "cell_type": "code",
   "execution_count": 4,
   "metadata": {},
   "outputs": [
    {
     "data": {
      "image/png": "[encoded data removed]",
      "text/plain": [
       "<matplotlib.figure.Figure at 0x7f7e82b20b70>"
      ]
     },
     "metadata": {},
     "output_type": "display_data"
    }
   ],
   "source": [
    "%matplotlib inline\n",
    "plt.imshow(X_train[0], cmap=\"Greys\");"
   ]
  },
  {
   "cell_type": "markdown",
   "metadata": {},
   "source": [
    "# Recommended pipeline:\n",
    "\n",
    "1. Begin with logistic regression from the previous assignment to classify some number against others (e.g. zero vs nonzero)\n",
    "2. Generalize it to multiclass logistic regression. Either try to remember the week 1 lectures or google it.\n",
    "3. Instead of a weights vector you'll have to use a matrix with `shape=(features, classes)` softmax (exp over sum of exps) can implemented manually or as `tf.nn.softmax`\n",
    "4. probably better to use STOCHASTIC gradient descent (minibatch) in which case sample should probably be shuffled (or use random subsamples on each iteration)\n",
    "\n"
   ]
  },
  {
   "cell_type": "markdown",
   "metadata": {},
   "source": [
    "# Add a hidden layer. Now your logistic regression uses hidden neurons instead of inputs.\n",
    "1. Hidden layer uses the same math as output layer (ex-logistic regression), but uses some nonlinearity (sigmoid) instead of softmax\n",
    "2. You need to train both layers, not just output layer :)\n",
    "3. Do not initialize layers with zeros (due to symmetry effects). A gaussian noize with small sigma will do.\n",
    "4. 50 hidden neurons and a sigmoid nonlinearity will do for a start. Many ways to improve here.\n",
    "5. In an ideal case this totals to 2 .dot's, 1 softmax and 1 sigmoid"
   ]
  },
  {
   "cell_type": "markdown",
   "metadata": {},
   "source": [
    "# Review criteria\n",
    "1. The solution runs in the course environment. This is a must, for sake of the fellow learner, make you work not require additional effort to assess.\n",
    "2. The solution runs in less than 5 minutes on the Coursera server (or a single CPU). There is no need to overengineer.\n",
    "3. You correctly implement an MLP in tensorflow. Usage of external high-level libraries such as keras is forbidden.\n",
    "4. The solution has a clear training part and an evaluation part where the accuracy on the test dataset is assessed.\n",
    "5. You don't use the test dataset for training in any way. Do not use any datasets other than the one provided via week2/mnist.py\n",
    "6. You have a plot with train loss and test losses as a function of the iteration number\n",
    "7. To pass, the accuracy must be at least 95%, to get the full points, 98%"
   ]
  },
  {
   "cell_type": "markdown",
   "metadata": {},
   "source": [
    "# Flatten image for classification"
   ]
  },
  {
   "cell_type": "code",
   "execution_count": 5,
   "metadata": {},
   "outputs": [
    {
     "name": "stdout",
     "output_type": "stream",
     "text": [
      "(50000, 784)\n"
     ]
    }
   ],
   "source": [
    "n_samples = len(X_train)\n",
    "X_train = X_train.reshape((n_samples, -1))\n",
    "print(X_train.shape)"
   ]
  },
  {
   "cell_type": "code",
   "execution_count": 6,
   "metadata": {},
   "outputs": [
    {
     "name": "stdout",
     "output_type": "stream",
     "text": [
      "(10000, 784)\n"
     ]
    }
   ],
   "source": [
    "n_samples = len(X_test)\n",
    "X_test = X_test.reshape((n_samples, -1))\n",
    "print(X_test.shape)"
   ]
  },
  {
   "cell_type": "code",
   "execution_count": 7,
   "metadata": {},
   "outputs": [],
   "source": [
    "from sklearn.preprocessing import OneHotEncoder\n",
    "onehot_encoder = OneHotEncoder(sparse=False)\n",
    "y_train = y_train.reshape(len(y_train), 1)\n",
    "y_train = onehot_encoder.fit_transform(y_train)\n",
    "y_test = y_test.reshape(len(y_test), 1)\n",
    "y_test = onehot_encoder.fit_transform(y_test)"
   ]
  },
  {
   "cell_type": "markdown",
   "metadata": {},
   "source": [
    "# Phase 1: assemble your graph\n",
    "1. Define placeholders for input and output\n",
    "2. Define the weights\n",
    "3. Define the inference model\n",
    "4. Define loss function\n",
    "5. Define optimizer"
   ]
  },
  {
   "cell_type": "code",
   "execution_count": 8,
   "metadata": {
    "collapsed": true
   },
   "outputs": [],
   "source": [
    "num_classes = len(np.unique(y_train))"
   ]
  },
  {
   "cell_type": "code",
   "execution_count": 9,
   "metadata": {
    "collapsed": true
   },
   "outputs": [],
   "source": [
    "with tf.name_scope('data'):\n",
    "    X_input = tf.placeholder (dtype = tf.float32, shape = [None,784], name = 'input_data')\n",
    "    y_input = tf.placeholder (dtype = tf.float32, shape= [None,10], name = 'labels')"
   ]
  },
  {
   "cell_type": "code",
   "execution_count": 10,
   "metadata": {
    "collapsed": true
   },
   "outputs": [],
   "source": [
    "with tf.name_scope('variables'):\n",
    "    w1 = tf.Variable(tf.random_normal(shape = [784,256],dtype = tf.float32,name='layer1_weights'))\n",
    "    b1 = tf.Variable(0.,dtype=tf.float32,name ='layer1_bias')\n",
    "    w2 = tf.Variable(tf.random_normal(shape = [256,10],dtype = tf.float32,name='layer2_weights'))\n",
    "    b2 = tf.Variable(0.,dtype=tf.float32,name ='layer2_bias')"
   ]
  },
  {
   "cell_type": "code",
   "execution_count": 11,
   "metadata": {
    "collapsed": true
   },
   "outputs": [],
   "source": [
    "with tf.name_scope('transformations'):\n",
    "    y1 = tf.nn.sigmoid(tf.matmul(X_input,w1) + b1)\n",
    "    y2 = tf.nn.softmax(tf.matmul(y1, w2) + b2)"
   ]
  },
  {
   "cell_type": "code",
   "execution_count": 12,
   "metadata": {
    "collapsed": true
   },
   "outputs": [],
   "source": [
    "with tf.name_scope('loss'):\n",
    "    loss = tf.reduce_mean(-tf.reduce_sum(y_input * tf.log(y2), reduction_indices=[1]))"
   ]
  },
  {
   "cell_type": "code",
   "execution_count": 13,
   "metadata": {
    "collapsed": true
   },
   "outputs": [],
   "source": [
    "with tf.name_scope('train'):\n",
    "    optimiser = tf.train.GradientDescentOptimizer(0.5).minimize(loss)"
   ]
  },
  {
   "cell_type": "markdown",
   "metadata": {},
   "source": [
    "# Need to improve batch process"
   ]
  },
  {
   "cell_type": "code",
   "execution_count": null,
   "metadata": {
    "collapsed": true
   },
   "outputs": [],
   "source": [
    "temp = []\n",
    "end = 0\n",
    "tmp_data= []\n",
    "tmp_labels = []\n",
    "def next_batch(data,labels, batch_size):\n",
    "    \"\"\"Return the next `batch_size` examples from this data set.\"\"\"\n",
    "    global temp, end, tmp_data, tmp_labels\n",
    "    num_examples = len(labels)\n",
    "    if(end == 0 or end- batch_size>= num_examples):\n",
    "        perm = np.arange(num_examples)\n",
    "        np.random.shuffle(perm)\n",
    "        temp = perm\n",
    "        tmp_data = data[perm]\n",
    "        tmp_labels = labels[perm]\n",
    "        start = 0\n",
    "        end = batch_size\n",
    "    else:\n",
    "        start = end\n",
    "        end = start+batch_size\n",
    "    return tmp_data[start:end], tmp_labels[start:end]"
   ]
  },
  {
   "cell_type": "markdown",
   "metadata": {},
   "source": [
    "# With this setup I get 95% on my computer"
   ]
  },
  {
   "cell_type": "code",
   "execution_count": null,
   "metadata": {},
   "outputs": [
    {
     "name": "stdout",
     "output_type": "stream",
     "text": [
      "loss in training: 13.966697692871094\n"
     ]
    }
   ],
   "source": [
    "with tf.Session() as sess:\n",
    "    all_variables = tf.global_variables_initializer()\n",
    "    sess.run(all_variables)\n",
    "    for step in range(20000):\n",
    "        batch_xs, batch_ys = next_batch(X_train, y_train, batch_size=150)\n",
    "        sess.run(optimiser, feed_dict={X_input: batch_xs, y_input: batch_ys})\n",
    "        if step%1500==0:\n",
    "            print(f'loss in training: {sess.run(loss,feed_dict={X_input: batch_xs, y_input: batch_ys})}')\n",
    "            \n",
    "    correct_prediction = tf.equal(tf.argmax(y2,1), tf.argmax(y_input,1))\n",
    "    accuracy = tf.reduce_mean(tf.cast(correct_prediction, tf.float32))\n",
    "    print('Accuracy in test data : {}'.format(sess.run(accuracy, feed_dict={X_input: X_test, y_input: y_test})))"
   ]
  },
  {
   "cell_type": "code",
   "execution_count": null,
   "metadata": {
    "collapsed": true
   },
   "outputs": [],
   "source": []
  }
 ],
 "metadata": {
  "kernelspec": {
   "display_name": "Python 3",
   "language": "python",
   "name": "python3"
  },
  "language_info": {
   "codemirror_mode": {
    "name": "ipython",
    "version": 3
   },
   "file_extension": ".py",
   "mimetype": "text/x-python",
   "name": "python",
   "nbconvert_exporter": "python",
   "pygments_lexer": "ipython3",
   "version": "3.6.0"
  }
 },
 "nbformat": 4,
 "nbformat_minor": 2
}
